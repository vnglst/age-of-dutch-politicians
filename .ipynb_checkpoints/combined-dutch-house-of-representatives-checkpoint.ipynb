{
 "cells": [
  {
   "cell_type": "code",
   "execution_count": 2,
   "id": "1a3cd2ff-1907-4a1e-96c8-0ebf91c43891",
   "metadata": {},
   "outputs": [
    {
     "ename": "ModuleNotFoundError",
     "evalue": "No module named 'matplotlib'",
     "output_type": "error",
     "traceback": [
      "\u001b[0;31m---------------------------------------------------------------------------\u001b[0m",
      "\u001b[0;31mModuleNotFoundError\u001b[0m                       Traceback (most recent call last)",
      "Cell \u001b[0;32mIn [2], line 2\u001b[0m\n\u001b[1;32m      1\u001b[0m \u001b[38;5;28;01mimport\u001b[39;00m \u001b[38;5;21;01mjson\u001b[39;00m\n\u001b[0;32m----> 2\u001b[0m \u001b[38;5;28;01mimport\u001b[39;00m \u001b[38;5;21;01mmatplotlib\u001b[39;00m\u001b[38;5;21;01m.\u001b[39;00m\u001b[38;5;21;01mpyplot\u001b[39;00m \u001b[38;5;28;01mas\u001b[39;00m \u001b[38;5;21;01mplt\u001b[39;00m\n\u001b[1;32m      3\u001b[0m \u001b[38;5;28;01mfrom\u001b[39;00m \u001b[38;5;21;01mdatetime\u001b[39;00m \u001b[38;5;28;01mimport\u001b[39;00m date, datetime\n",
      "\u001b[0;31mModuleNotFoundError\u001b[0m: No module named 'matplotlib'"
     ]
    }
   ],
   "source": [
    "import json\n",
    "import matplotlib.pyplot as plt\n",
    "from datetime import date, datetime\n"
   ]
  },
  {
   "cell_type": "code",
   "execution_count": null,
   "id": "b37340bd-e261-45aa-a34c-02c2c6d52c61",
   "metadata": {},
   "outputs": [],
   "source": [
    "def calc_age(birthdate, at_date):\n",
    "    age = at_date.year - birthdate.year - ((at_date.month, at_date.day) < (birthdate.month, birthdate.day))\n",
    "    return age"
   ]
  },
  {
   "cell_type": "code",
   "execution_count": null,
   "id": "3c70b944-fb4b-4a1c-8bc2-4965c934646d",
   "metadata": {},
   "outputs": [],
   "source": [
    "f = open('dutch-house-of-representatives.json')\n",
    "members = json.load(f)\n",
    "f.close()\n",
    "\n",
    "oldest = 0;\n",
    "oldest_str = '';\n",
    "youngest = 100;\n",
    "youngest_str = '';\n",
    "\n",
    "members_per_year = dict()\n",
    "    \n",
    "for year in range(1850, 2022):\n",
    "    for m in members:\n",
    "        year_date = datetime(year, 1, 1)\n",
    "        start = datetime.strptime(m[\"start\"], '%Y-%m-%dT%H:%M:%SZ')\n",
    "        if \"end\" in m:\n",
    "            end_date = m[\"end\"]\n",
    "        else:\n",
    "            end_date = '2023-01-01T00:00:00Z'\n",
    "        end = datetime.strptime(end_date, '%Y-%m-%dT%H:%M:%SZ')\n",
    "        \n",
    "        if start <= year_date <= end:\n",
    "            dob = datetime.strptime(m[\"dob\"], '%Y-%m-%dT%H:%M:%SZ')\n",
    "            age = calc_age(dob, year_date)\n",
    "            \n",
    "            if year in members_per_year:\n",
    "                members_per_year[year].append(age)\n",
    "            else:\n",
    "                members_per_year[year] = [age]\n",
    "            \n",
    "            str = f'{year}, {m[\"memberLabel\"]} ({age})'\n",
    "            if age > oldest:\n",
    "                oldest = age\n",
    "                oldest_str = str\n",
    "            if age < youngest:\n",
    "                youngest = age\n",
    "                youngest_str = str\n",
    "                \n",
    "\n",
    "x=[]\n",
    "y=[]\n",
    "\n",
    "for year, members in members_per_year.items():\n",
    "    x.append(year)\n",
    "    y.append(round(sum(members) / len(members)))\n",
    "    \n",
    "print('oldest: ',oldest_str)\n",
    "print('youngest: ', youngest_str)"
   ]
  },
  {
   "cell_type": "code",
   "execution_count": null,
   "id": "a8495f50-5db0-4f69-b95d-c1febe6ebe14",
   "metadata": {},
   "outputs": [],
   "source": [
    "f = open('age-of-dutch-prime-ministers.json')\n",
    "ministers = json.load(f)\n",
    "f.close()\n",
    "\n",
    "prime_min_age = []\n",
    "oldest = 0;\n",
    "oldest_str = '';\n",
    "youngest = 100;\n",
    "youngest_str = '';\n",
    "    \n",
    "for year in range(1850, 2022):\n",
    "    for m in ministers:\n",
    "        year_date = datetime(year, 1, 1)\n",
    "        start = datetime.strptime(m[\"start\"], '%Y-%m-%dT%H:%M:%SZ')\n",
    "        end = datetime.strptime(m[\"end\"], '%Y-%m-%dT%H:%M:%SZ')\n",
    "        \n",
    "        if start <= year_date <= end:\n",
    "            dob = datetime.strptime(m[\"dob\"], '%Y-%m-%dT%H:%M:%SZ')\n",
    "            age = calc_age(dob, year_date)\n",
    "            prime_min_age.append(age)"
   ]
  },
  {
   "cell_type": "code",
   "execution_count": null,
   "id": "2c083ec1",
   "metadata": {},
   "outputs": [],
   "source": [
    "fig, ax = plt.subplots(figsize=(15, 5))\n",
    "\n",
    "ax.annotate('Thorbecke (73)',\n",
    "            xy=(1, 0), xycoords='axes fraction',\n",
    "            xytext=(-650, 240), textcoords='offset pixels',\n",
    "            horizontalalignment='right',\n",
    "            verticalalignment='bottom')\n",
    "\n",
    "\n",
    "ax.annotate('Willem Drees (71)',\n",
    "            xy=(1, 0), xycoords='axes fraction',\n",
    "            xytext=(-270, 230), textcoords='offset pixels',\n",
    "            horizontalalignment='right',\n",
    "            verticalalignment='bottom')\n",
    "\n",
    "ax.annotate('Wim Kok (63)',\n",
    "            xy=(1, 0), xycoords='axes fraction',\n",
    "            xytext=(-90, 210), textcoords='offset pixels',\n",
    "            horizontalalignment='right',\n",
    "            verticalalignment='top')\n",
    "\n",
    "ax.annotate('Mark Rutte (53)',\n",
    "            xy=(1, 0), xycoords='axes fraction',\n",
    "            xytext=(-5, 160), textcoords='offset pixels',\n",
    "            horizontalalignment='right',\n",
    "            verticalalignment='bottom')\n",
    "\n",
    "ax.legend()\n",
    "\n",
    "plt.plot(x, y, x, prime_min_age)\n",
    "plt.ylim(18, 82)\n",
    "plt.grid()\n",
    "plt.title(\"Average age of Dutch house of representatives\")\n",
    "plt.ylabel(\"age\")\n",
    "plt.xlabel(\"year\")\n",
    "plt.show()\n",
    "\n",
    "\n"
   ]
  },
  {
   "cell_type": "markdown",
   "id": "70ec5a93",
   "metadata": {},
   "source": [
    "\n",
    "\n",
    "## Query used for House of Representatives\n",
    "\n",
    "```\n",
    "SELECT ?member ?dob ?start ?end ?memberLabel\n",
    "WHERE {\n",
    "  ?member wdt:P39 wd:Q18887908;\n",
    "          wdt:P569 ?dob.\n",
    "\n",
    "  { ?member p:P39 ?position.\n",
    "  ?position ps:P39 wd:Q18887908;\n",
    "            pq:P580 ?start. }\n",
    "  \n",
    "  OPTIONAL { ?member p:P39 ?position.\n",
    "  ?position ps:P39 wd:Q18887908;\n",
    "            pq:P582 ?end. }\n",
    "  \n",
    "  SERVICE wikibase:label { bd:serviceParam wikibase:language \"[AUTO_LANGUAGE]\". }\n",
    "} ORDER BY DESC(?start) \n",
    "```\n",
    "\n",
    "https://query.wikidata.org/#SELECT%20%3Fmember%20%3Fdob%20%3Fstart%20%3Fend%20%3FmemberLabel%0AWHERE%20%7B%0A%20%20%3Fmember%20wdt%3AP39%20wd%3AQ18887908%3B%0A%20%20%20%20%20%20%20%20%20%20wdt%3AP569%20%3Fdob.%0A%0A%20%20%7B%20%3Fmember%20p%3AP39%20%3Fposition.%0A%20%20%3Fposition%20ps%3AP39%20wd%3AQ18887908%3B%0A%20%20%20%20%20%20%20%20%20%20%20%20pq%3AP580%20%3Fstart.%20%7D%0A%20%20%0A%20%20OPTIONAL%20%7B%20%3Fmember%20p%3AP39%20%3Fposition.%0A%20%20%3Fposition%20ps%3AP39%20wd%3AQ18887908%3B%0A%20%20%20%20%20%20%20%20%20%20%20%20pq%3AP582%20%3Fend.%20%7D%0A%20%20%0A%20%20BIND%28COALESCE%28now%28%29%29%20as%20%3Fend%29%0A%20%20%0A%20%20SERVICE%20wikibase%3Alabel%20%7B%20bd%3AserviceParam%20wikibase%3Alanguage%20%22%5BAUTO_LANGUAGE%5D%22.%20%7D%0A%7D%20ORDER%20BY%20DESC%28%3Fstart%29%20%0A"
   ]
  }
 ],
 "metadata": {
  "kernelspec": {
   "display_name": "Python 3 (ipykernel)",
   "language": "python",
   "name": "python3"
  },
  "language_info": {
   "codemirror_mode": {
    "name": "ipython",
    "version": 3
   },
   "file_extension": ".py",
   "mimetype": "text/x-python",
   "name": "python",
   "nbconvert_exporter": "python",
   "pygments_lexer": "ipython3",
   "version": "3.10.6"
  },
  "vscode": {
   "interpreter": {
    "hash": "b0fa6594d8f4cbf19f97940f81e996739fb7646882a419484c72d19e05852a7e"
   }
  }
 },
 "nbformat": 4,
 "nbformat_minor": 5
}
